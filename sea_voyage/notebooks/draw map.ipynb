{
 "cells": [
  {
   "cell_type": "code",
   "execution_count": 1,
   "metadata": {},
   "outputs": [
    {
     "data": {
      "application/vnd.jupyter.widget-view+json": {
       "model_id": "05ebcfa940954a07913120ba55040ba4",
       "version_major": 2,
       "version_minor": 0
      },
      "text/plain": [
       "Map(center=[33.342835, 126.525454], controls=(ZoomControl(options=['position', 'zoom_in_text', 'zoom_in_title'…"
      ]
     },
     "execution_count": 1,
     "metadata": {},
     "output_type": "execute_result"
    }
   ],
   "source": [
    "from utils.geojson_utils import load_geojson\n",
    "from utils.map_utils import draw_map_ipyleaflet\n",
    "\n",
    "geojson_file_path = './data/marnet/marnet_plus_100km.geojson'\n",
    "\n",
    "geojson_data = load_geojson(geojson_file_path)\n",
    "draw_map_ipyleaflet(geojson_data)\n"
   ]
  }
 ],
 "metadata": {
  "kernelspec": {
   "display_name": "py312",
   "language": "python",
   "name": "python3"
  },
  "language_info": {
   "codemirror_mode": {
    "name": "ipython",
    "version": 3
   },
   "file_extension": ".py",
   "mimetype": "text/x-python",
   "name": "python",
   "nbconvert_exporter": "python",
   "pygments_lexer": "ipython3",
   "version": "3.13.2"
  }
 },
 "nbformat": 4,
 "nbformat_minor": 2
}
