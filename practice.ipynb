{
 "cells": [
  {
   "cell_type": "code",
   "execution_count": 3,
   "metadata": {},
   "outputs": [
    {
     "data": {
      "text/plain": [
       "['babalmandab',\n",
       " 'bosporus',\n",
       " 'gibraltar',\n",
       " 'suez',\n",
       " 'panama',\n",
       " 'ormuz',\n",
       " 'northwest',\n",
       " 'malacca',\n",
       " 'sunda',\n",
       " 'chili',\n",
       " 'south_africa']"
      ]
     },
     "execution_count": 3,
     "metadata": {},
     "output_type": "execute_result"
    }
   ],
   "source": [
    "import seavoyage as sv\n",
    "\n",
    "sv.constants.UnitEnum.values_list()\n",
    "sv.constants.AvoidPassageEnum.values_list()"
   ]
  }
 ],
 "metadata": {
  "kernelspec": {
   "display_name": ".venv",
   "language": "python",
   "name": "python3"
  },
  "language_info": {
   "codemirror_mode": {
    "name": "ipython",
    "version": 3
   },
   "file_extension": ".py",
   "mimetype": "text/x-python",
   "name": "python",
   "nbconvert_exporter": "python",
   "pygments_lexer": "ipython3",
   "version": "3.12.9"
  }
 },
 "nbformat": 4,
 "nbformat_minor": 2
}
